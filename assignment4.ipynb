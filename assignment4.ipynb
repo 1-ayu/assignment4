{
 "cells": [
  {
   "cell_type": "code",
   "execution_count": 2,
   "id": "1ef45b3f-aaca-40ac-ae80-3fc5bc1fc1c9",
   "metadata": {},
   "outputs": [
    {
     "name": "stdout",
     "output_type": "stream",
     "text": [
      "('Virat Kohli', 24936)\n",
      "('Jack Kallis', 25534)\n",
      "('Ricky Ponting', 27483)\n",
      "('Sachin Tendulkar', 34357)\n"
     ]
    }
   ],
   "source": [
    "1.\n",
    "data =[('Sachin Tendulkar', 34357), ('Ricky Ponting', 27483), ('Jack Kallis', 25534), ('Virat Kohli', 24936)]\n",
    "\n",
    "sorted_data = sorted(data , key=lambda x:x[1])\n",
    "for i in sorted_data:\n",
    "    print(i)"
   ]
  },
  {
   "cell_type": "code",
   "execution_count": 3,
   "id": "a6663630-fa41-4fda-b5c4-741e098d9223",
   "metadata": {},
   "outputs": [
    {
     "data": {
      "text/plain": [
       "[1, 4, 9, 16, 25, 36, 49, 64, 81, 100]"
      ]
     },
     "execution_count": 3,
     "metadata": {},
     "output_type": "execute_result"
    }
   ],
   "source": [
    "2.\n",
    "# All squares of the list using lambda and map function\n",
    "l=[1,2,3,4,5,6,7,8,9,10]\n",
    "list(map(lambda x:x**2,l))\n",
    "    "
   ]
  },
  {
   "cell_type": "code",
   "execution_count": 6,
   "id": "e81fcd87-36c4-42ee-a54a-fd688313e57a",
   "metadata": {},
   "outputs": [
    {
     "name": "stdout",
     "output_type": "stream",
     "text": [
      "('1', '2', '3', '4', '5', '6', '7', '8', '9', '10')\n"
     ]
    }
   ],
   "source": [
    "3.\n",
    "l=[1,2,3,4,5,6,7,8,9,10]\n",
    "converted_tuple= tuple(map(lambda x: str(x),l))\n",
    "print(converted_tuple)"
   ]
  },
  {
   "cell_type": "code",
   "execution_count": 8,
   "id": "d21210eb-423f-4889-abb2-fbec02a3ec01",
   "metadata": {},
   "outputs": [],
   "source": [
    "4.\n",
    "l=[1,2,3,4,5,6,7,8,9,10,11,12,13,14,15,16,17,18,19,20,21,22,23,24,25]"
   ]
  },
  {
   "cell_type": "code",
   "execution_count": 9,
   "id": "7156bb62-45bd-4e40-8918-0502e74c8677",
   "metadata": {},
   "outputs": [],
   "source": [
    "from functools import reduce"
   ]
  },
  {
   "cell_type": "code",
   "execution_count": 11,
   "id": "58329411-c04b-4c70-98eb-a13ffc88c9f7",
   "metadata": {},
   "outputs": [
    {
     "data": {
      "text/plain": [
       "25"
      ]
     },
     "execution_count": 11,
     "metadata": {},
     "output_type": "execute_result"
    }
   ],
   "source": [
    "reduce(lambda x,y:x if x>y else y,l)"
   ]
  },
  {
   "cell_type": "code",
   "execution_count": 12,
   "id": "e49463da-f018-48df-9fd8-095aa9461c8f",
   "metadata": {},
   "outputs": [],
   "source": [
    "5.\n",
    "l=[2, 3, 6, 9, 27, 60, 90, 120, 55, 46]"
   ]
  },
  {
   "cell_type": "code",
   "execution_count": 13,
   "id": "79d95e2d-5dfa-4dd9-a34c-bd8eb33ac8a2",
   "metadata": {},
   "outputs": [
    {
     "data": {
      "text/plain": [
       "[2, 3, 9, 27, 55, 46]"
      ]
     },
     "execution_count": 13,
     "metadata": {},
     "output_type": "execute_result"
    }
   ],
   "source": [
    "list(filter(lambda x: x%2 or x%3,l))"
   ]
  },
  {
   "cell_type": "code",
   "execution_count": 16,
   "id": "23b4ebf9-66b5-4b6d-a6e3-4fa66dfc5ee5",
   "metadata": {},
   "outputs": [
    {
     "name": "stdout",
     "output_type": "stream",
     "text": [
      "['php', 'aba', 'radar', 'level']\n"
     ]
    }
   ],
   "source": [
    "6.\n",
    "a=['python', 'php', 'aba', 'radar', 'level']\n",
    "palindrome=list(filter(lambda x: x==x[::-1],a))\n",
    "print(palindrome)"
   ]
  }
 ],
 "metadata": {
  "kernelspec": {
   "display_name": "Python 3 (ipykernel)",
   "language": "python",
   "name": "python3"
  },
  "language_info": {
   "codemirror_mode": {
    "name": "ipython",
    "version": 3
   },
   "file_extension": ".py",
   "mimetype": "text/x-python",
   "name": "python",
   "nbconvert_exporter": "python",
   "pygments_lexer": "ipython3",
   "version": "3.10.8"
  }
 },
 "nbformat": 4,
 "nbformat_minor": 5
}
